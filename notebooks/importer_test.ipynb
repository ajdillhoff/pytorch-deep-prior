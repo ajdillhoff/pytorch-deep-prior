{
 "cells": [
  {
   "cell_type": "markdown",
   "metadata": {},
   "source": [
    "# Importer Test\n",
    "\n",
    "Run tests to ensure that all importer functions are working as intended. Let's start by defining some helper functions. "
   ]
  },
  {
   "cell_type": "code",
   "execution_count": 1,
   "metadata": {},
   "outputs": [],
   "source": [
    "import matplotlib.pyplot as plt\n",
    "\n",
    "def show_depth(img):\n",
    "    plt.imshow(img, cmap='Greys')"
   ]
  },
  {
   "cell_type": "markdown",
   "metadata": {},
   "source": [
    "## Creating the importer\n",
    "Create a new `DepthImporter` object using the path to the dataset."
   ]
  },
  {
   "cell_type": "code",
   "execution_count": 2,
   "metadata": {},
   "outputs": [],
   "source": [
    "import sys\n",
    "sys.path.append(\"..\")\n",
    "\n",
    "from src.data.importers import NYUImporter\n",
    "\n",
    "#dataset_path = \"/media/alex/VLM Backup (WX21D77DF8KT)/nyu_hand_dataset_v2/\"\n",
    "dataset_path = \"/home/alex/dev/datasets/NYU/dataset/\"\n",
    "\n",
    "data_importer = NYUImporter(dataset_path, use_cache=False)"
   ]
  },
  {
   "cell_type": "markdown",
   "metadata": {},
   "source": [
    "## Loading a sample\n",
    "Let's load and view a sample depth image."
   ]
  },
  {
   "cell_type": "code",
   "execution_count": 3,
   "metadata": {},
   "outputs": [
    {
     "name": "stdout",
     "output_type": "stream",
     "text": [
      "718.0\n"
     ]
    },
    {
     "data": {
      "image/png": "[encoded data removed]",
      "text/plain": [
       "<Figure size 432x288 with 1 Axes>"
      ]
     },
     "metadata": {},
     "output_type": "display_data"
    }
   ],
   "source": [
    "file_path = dataset_path + \"train/depth_1_0000001.png\"\n",
    "\n",
    "img_data = data_importer.load_depth_data(file_path)\n",
    "\n",
    "show_depth(img_data)\n",
    "print(img_data.min())"
   ]
  },
  {
   "cell_type": "markdown",
   "metadata": {},
   "source": [
    "## Loading the annotations\n",
    "\n",
    "Now that a sample is loaded, we need to load the corresponding joint annotations."
   ]
  },
  {
   "cell_type": "code",
   "execution_count": 4,
   "metadata": {},
   "outputs": [
    {
     "name": "stdout",
     "output_type": "stream",
     "text": [
      "(36, 3)\n"
     ]
    }
   ],
   "source": [
    "import scipy.io\n",
    "\n",
    "train_file = \"{}/train/joint_data.mat\".format(data_importer.base_path)\n",
    "mat_file = scipy.io.loadmat(train_file)\n",
    "joints3D = mat_file['joint_xyz'][0][0]\n",
    "joints2D = mat_file['joint_uvd'][0][0]\n",
    "print(joints3D.shape)"
   ]
  },
  {
   "cell_type": "markdown",
   "metadata": {},
   "source": [
    "Let's get the ground truth joints that we are concerned with (the ones in `data_importer.evaluated_joints`"
   ]
  },
  {
   "cell_type": "code",
   "execution_count": 5,
   "metadata": {},
   "outputs": [
    {
     "name": "stdout",
     "output_type": "stream",
     "text": [
      "[[180.12895 195.42758 731.0689 ]\n",
      " [185.69302 228.00754 741.1159 ]\n",
      " [212.4804  172.75383 737.744  ]\n",
      " [207.64732 211.90805 746.9333 ]\n",
      " [234.63535 164.74454 741.1971 ]\n",
      " [226.31418 206.42291 755.62775]\n",
      " [257.07202 176.4456  740.67175]\n",
      " [251.1273  214.33078 754.7238 ]\n",
      " [283.74005 250.08482 730.20856]\n",
      " [279.66415 265.65515 740.0853 ]\n",
      " [262.53848 291.40384 752.3917 ]\n",
      " [196.49666 322.16144 767.7335 ]\n",
      " [222.8492  328.51862 768.33765]\n",
      " [223.30292 266.85678 761.4926 ]]\n",
      "[[-173.89279    55.50484   731.0689  ]\n",
      " [-169.27005    15.139128  741.1159  ]\n",
      " [-134.8928     84.504456  737.744   ]\n",
      " [-142.71205    35.741276  746.9333  ]\n",
      " [-107.59875    95.01192   741.1971  ]\n",
      " [-120.38634    43.217266  755.62775 ]\n",
      " [ -79.26199    80.18216   740.67175 ]\n",
      " [ -88.395584   32.99948   754.7238  ]\n",
      " [ -45.026638  -12.543582  730.20856 ]\n",
      " [ -50.76547   -32.341694  740.0853  ]\n",
      " [ -73.521866  -65.87884   752.3917  ]\n",
      " [-161.2444   -107.44468   767.7335  ]\n",
      " [-126.93867  -115.84921   768.33765 ]\n",
      " [-125.22023   -34.83582   761.4926  ]]\n"
     ]
    }
   ],
   "source": [
    "import numpy as np\n",
    "\n",
    "num_joints = len(data_importer.evaluated_joints)\n",
    "\n",
    "joints2D_gt = np.zeros((num_joints, 3), np.float32)\n",
    "for idx, val in enumerate(data_importer.evaluated_joints):\n",
    "    joints2D_gt[idx, 0] = joints2D[val, 0]\n",
    "    joints2D_gt[idx, 1] = joints2D[val, 1]\n",
    "    joints2D_gt[idx, 2] = joints2D[val, 2]\n",
    "    \n",
    "joints3D_gt = np.zeros((num_joints, 3), np.float32)\n",
    "for idx, val in enumerate(data_importer.evaluated_joints):\n",
    "    joints3D_gt[idx, 0] = joints3D[val, 0]\n",
    "    joints3D_gt[idx, 1] = joints3D[val, 1]\n",
    "    joints3D_gt[idx, 2] = joints3D[val, 2]\n",
    "    \n",
    "print(joints2D_gt)\n",
    "print(joints3D_gt)"
   ]
  },
  {
   "cell_type": "markdown",
   "metadata": {},
   "source": [
    "## Hand Detection\n",
    "With the image and annotations loaded, the hand can now be cropped to produce the final training image. Since we have annotations, there is no need to perform Center of Mass calculations."
   ]
  },
  {
   "cell_type": "code",
   "execution_count": 27,
   "metadata": {},
   "outputs": [
    {
     "name": "stdout",
     "output_type": "stream",
     "text": [
      "[223.30292 266.85678 761.4926 ]\n"
     ]
    },
    {
     "data": {
      "image/png": "[encoded data removed]",
      "text/plain": [
       "<Figure size 432x288 with 1 Axes>"
      ]
     },
     "metadata": {},
     "output_type": "display_data"
    }
   ],
   "source": [
    "from src.util.hand_detector import HandDetector\n",
    "\n",
    "hd = HandDetector(img_data, data_importer.fx, data_importer.fy, data_importer)\n",
    "\n",
    "# use the last joint as the center of mass\n",
    "com = joints2D_gt[-1]\n",
    "print(com)\n",
    "\n",
    "cropped_hand = hd.crop_area_3d(com, size=(300, 300, 300))\n",
    "\n",
    "# subtract the min so the depth image is displayed clearer\n",
    "cropped_hand[cropped_hand != 0] -= cropped_hand[cropped_hand != 0].min()\n",
    "\n",
    "show_depth(cropped_hand)"
   ]
  },
  {
   "cell_type": "markdown",
   "metadata": {},
   "source": [
    "The annotations should match the cropped hands."
   ]
  },
  {
   "cell_type": "code",
   "execution_count": 32,
   "metadata": {},
   "outputs": [
    {
     "name": "stdout",
     "output_type": "stream",
     "text": [
      "[[-463.06769035 -290.63696294  -30.42370605]\n",
      " [-458.44494865 -331.00267606  -20.37670898]\n",
      " [-424.06770561 -261.63734822  -23.74859619]\n",
      " [-431.88694999 -310.400528    -14.55932617]\n",
      " [-396.77364586 -251.12988667  -20.29553223]\n",
      " [-409.56123588 -302.92453771   -5.86486816]\n",
      " [-368.43689201 -265.95964436  -20.82086182]\n",
      " [-377.57048271 -313.14232259   -6.76879883]\n",
      " [-334.20153663 -358.68538575  -31.28405762]\n",
      " [-339.9403672  -378.48349767  -21.4072876 ]\n",
      " [-362.69676445 -412.02064137   -9.10089111]\n",
      " [-450.41929863 -453.58648305    6.24090576]\n",
      " [-416.1135659  -461.99101643    6.84503174]\n",
      " [-414.3951287  -380.97762303    0.        ]]\n"
     ]
    }
   ],
   "source": [
    "com3d = np.zeros(com.shape)\n",
    "com3d[0] = com[0] * com[2] / data_importer.fx\n",
    "com3d[1] = com[1] * com[2] / data_importer.fy\n",
    "com3d[2] = com[2]\n",
    "\n",
    "joints3d_norm = joints3D_gt - com3d\n",
    "print(joints3d_norm)"
   ]
  }
 ],
 "metadata": {
  "kernelspec": {
   "display_name": "Python [default]",
   "language": "python",
   "name": "python3"
  },
  "language_info": {
   "codemirror_mode": {
    "name": "ipython",
    "version": 3
   },
   "file_extension": ".py",
   "mimetype": "text/x-python",
   "name": "python",
   "nbconvert_exporter": "python",
   "pygments_lexer": "ipython3",
   "version": "3.6.4"
  }
 },
 "nbformat": 4,
 "nbformat_minor": 2
}
